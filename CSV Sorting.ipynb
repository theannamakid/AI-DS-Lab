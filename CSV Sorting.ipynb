{
 "cells": [
  {
   "cell_type": "code",
   "execution_count": 2,
   "metadata": {},
   "outputs": [
    {
     "name": "stdout",
     "output_type": "stream",
     "text": [
      "     Name  Marks\n",
      "0     Aby     35\n",
      "1  Sundar     50\n",
      "2   Vijay     34\n",
      "3    Anna     37\n",
      "4   Maria     49\n",
      "\n",
      "\n",
      "Sorted Data(Name):\n",
      "     Name  Marks\n",
      "0     Aby     35\n",
      "3    Anna     37\n",
      "4   Maria     49\n",
      "1  Sundar     50\n",
      "2   Vijay     34\n",
      "\n",
      "\n",
      "Sorted Data(Marks):\n",
      "     Name  Marks\n",
      "2   Vijay     34\n",
      "0     Aby     35\n",
      "3    Anna     37\n",
      "4   Maria     49\n",
      "1  Sundar     50\n"
     ]
    }
   ],
   "source": [
    "#Sorting CSV file\n",
    "import pandas as pd\n",
    "file=pd.read_csv('csv/mark.csv')\n",
    "print(file)\n",
    "print(f\"\\n\\nSorted Data(Name):\\n{file.sort_values(['Name'])}\")\n",
    "print(f\"\\n\\nSorted Data(Marks):\\n{file.sort_values(['Marks'])}\")"
   ]
  }
 ],
 "metadata": {
  "kernelspec": {
   "display_name": "Python 3 (ipykernel)",
   "language": "python",
   "name": "python3"
  },
  "language_info": {
   "codemirror_mode": {
    "name": "ipython",
    "version": 3
   },
   "file_extension": ".py",
   "mimetype": "text/x-python",
   "name": "python",
   "nbconvert_exporter": "python",
   "pygments_lexer": "ipython3",
   "version": "3.9.7"
  }
 },
 "nbformat": 4,
 "nbformat_minor": 2
}
