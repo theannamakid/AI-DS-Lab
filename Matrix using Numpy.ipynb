{
 "cells": [
  {
   "cell_type": "code",
   "execution_count": 1,
   "metadata": {},
   "outputs": [
    {
     "name": "stdout",
     "output_type": "stream",
     "text": [
      "Matrix A\n",
      " [[9 8 7]\n",
      " [6 5 4]\n",
      " [3 2 1]] \n",
      "\n",
      "Matrix B\n",
      " [[9 8 7]\n",
      " [6 5 4]\n",
      " [3 2 1]]\n"
     ]
    }
   ],
   "source": [
    "import numpy as np\n",
    "a=np.array([[1,2,3],[4,5,6],[7,8,9]])\n",
    "b=np.array([[9,8,7],[6,5,4],[3,2,1]])\n",
    "print(\"Matrix A\\n\",b,\"\\n\\nMatrix B\\n\",b)"
   ]
  },
  {
   "cell_type": "code",
   "execution_count": 2,
   "metadata": {},
   "outputs": [
    {
     "name": "stdout",
     "output_type": "stream",
     "text": [
      "Added Matrix \n",
      " [[10 10 10]\n",
      " [10 10 10]\n",
      " [10 10 10]]\n"
     ]
    }
   ],
   "source": [
    "add=np.add(a,b)\n",
    "print(\"Added Matrix \\n\",add)"
   ]
  },
  {
   "cell_type": "code",
   "execution_count": 3,
   "metadata": {},
   "outputs": [
    {
     "name": "stdout",
     "output_type": "stream",
     "text": [
      "Subtracted Matrix \n",
      " [[-8 -6 -4]\n",
      " [-2  0  2]\n",
      " [ 4  6  8]]\n"
     ]
    }
   ],
   "source": [
    "sub=np.subtract(a,b)\n",
    "print(\"Subtracted Matrix \\n\",sub)"
   ]
  },
  {
   "cell_type": "code",
   "execution_count": 4,
   "metadata": {},
   "outputs": [
    {
     "name": "stdout",
     "output_type": "stream",
     "text": [
      "Product Matrix \n",
      " [[ 30  24  18]\n",
      " [ 84  69  54]\n",
      " [138 114  90]]\n"
     ]
    }
   ],
   "source": [
    "mul=np.dot(a,b)\n",
    "print(\"Product Matrix \\n\",mul)"
   ]
  },
  {
   "cell_type": "code",
   "execution_count": 6,
   "metadata": {},
   "outputs": [
    {
     "name": "stdout",
     "output_type": "stream",
     "text": [
      "Transpose\n",
      " [[9 6 3]\n",
      " [8 5 2]\n",
      " [7 4 1]]\n"
     ]
    }
   ],
   "source": [
    "trans=np.transpose(b)\n",
    "print(\"Transpose\\n\",trans)"
   ]
  },
  {
   "cell_type": "code",
   "execution_count": 10,
   "metadata": {},
   "outputs": [
    {
     "data": {
      "text/plain": [
       "array([[8, 4, 6],\n",
       "       [2, 5, 3],\n",
       "       [8, 2, 5]])"
      ]
     },
     "execution_count": 10,
     "metadata": {},
     "output_type": "execute_result"
    }
   ],
   "source": [
    "list=[8,4,6,2,5,3,8,2,5]\n",
    "n=np.array(list).reshape(3,3)\n",
    "n"
   ]
  },
  {
   "cell_type": "code",
   "execution_count": 18,
   "metadata": {},
   "outputs": [
    {
     "name": "stdout",
     "output_type": "stream",
     "text": [
      "Enter the number of column2\n",
      "Enter the number of rows3\n",
      "enter the elements of matrix\n",
      "1\n",
      "2\n",
      "3\n",
      "4\n",
      "5\n",
      "6\n",
      "Enter the number of column3\n",
      "Enter the number of rows2\n",
      "enter the elements of matrix\n",
      "9\n",
      "8\n",
      "7\n",
      "65\n",
      "5\n",
      "4\n",
      "Matrix A\n",
      " [[1 2]\n",
      " [3 4]\n",
      " [5 6]] \n",
      "Matrix B\n",
      " [[ 9  8  7]\n",
      " [65  5  4]]\n"
     ]
    }
   ],
   "source": [
    "def matrix():\n",
    "    elements=[]\n",
    "    column=int(input(\"Enter the number of column\"))\n",
    "    row=int(input(\"Enter the number of rows\"))\n",
    "    element=column*row\n",
    "    print(\"enter the elements of matrix\")\n",
    "    for i in range(0,element):\n",
    "        e=int(input())\n",
    "        elements.append(e)\n",
    "    n=np.array(elements).reshape(row,column)\n",
    "    return n\n",
    "A=matrix()\n",
    "B=matrix()\n",
    "print(\"Matrix A\\n\",A,\"\\nMatrix B\\n\",B)"
   ]
  }
 ],
 "metadata": {
  "kernelspec": {
   "display_name": "Python 3",
   "language": "python",
   "name": "python3"
  },
  "language_info": {
   "codemirror_mode": {
    "name": "ipython",
    "version": 3
   },
   "file_extension": ".py",
   "mimetype": "text/x-python",
   "name": "python",
   "nbconvert_exporter": "python",
   "pygments_lexer": "ipython3",
   "version": "3.6.9"
  }
 },
 "nbformat": 4,
 "nbformat_minor": 2
}
