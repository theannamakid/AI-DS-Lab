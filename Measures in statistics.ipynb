{
 "cells": [
  {
   "cell_type": "code",
   "execution_count": 4,
   "metadata": {},
   "outputs": [
    {
     "name": "stdout",
     "output_type": "stream",
     "text": [
      "Enter the no. of elements5\n",
      "4\n",
      "7\n",
      "5\n",
      "5\n",
      "2\n",
      "Mean =  4.6 \n",
      "Median =  5.0 \n",
      "Mode =  5 \n",
      "Percentile =  4.0 \n",
      "Standard Deviation =  1.816590212458495\n"
     ]
    }
   ],
   "source": [
    "import numpy as np\n",
    "import statistics as st\n",
    "import scipy.stats.norm as sta\n",
    "a=[]\n",
    "e=int(input(\"Enter the no. of elements\"))\n",
    "for i in range(0,e):\n",
    "    a.append(int(input()))\n",
    "mean=np.mean(a)\n",
    "median=np.median(a)\n",
    "mode=st.mode(a)\n",
    "percentile=np.percentile(a,25)\n",
    "sd=st.stdev(a)\n",
    "print(\"Mean = \",mean,\"\\nMedian = \",median,\"\\nMode = \",mode,\"\\nPercentile = \",percentile,\"\\nStandard Deviation = \",sd)"
   ]
  },
  {
   "cell_type": "code",
   "execution_count": null,
   "metadata": {},
   "outputs": [],
   "source": []
  }
 ],
 "metadata": {
  "kernelspec": {
   "display_name": "Python 3",
   "language": "python",
   "name": "python3"
  },
  "language_info": {
   "codemirror_mode": {
    "name": "ipython",
    "version": 3
   },
   "file_extension": ".py",
   "mimetype": "text/x-python",
   "name": "python",
   "nbconvert_exporter": "python",
   "pygments_lexer": "ipython3",
   "version": "3.6.9"
  }
 },
 "nbformat": 4,
 "nbformat_minor": 2
}
